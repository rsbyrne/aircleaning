{
 "cells": [
  {
   "cell_type": "code",
   "execution_count": null,
   "id": "daa8189b-eb24-4047-a488-f900c5dc3ad0",
   "metadata": {},
   "outputs": [],
   "source": [
    "import sys, os\n",
    "repodir = os.path.abspath('..')\n",
    "if not repodir in sys.path:\n",
    "    sys.path.append(repodir)"
   ]
  },
  {
   "cell_type": "code",
   "execution_count": null,
   "id": "f8f3cbf3-51b5-4dfc-85fd-787bae61ead8",
   "metadata": {},
   "outputs": [],
   "source": [
    "from aircleaning import svg, html"
   ]
  },
  {
   "cell_type": "code",
   "execution_count": null,
   "id": "1968a062-7eff-4f5a-a7d5-505c2be40762",
   "metadata": {},
   "outputs": [],
   "source": [
    "out = html.Page('Foo', (svg.draw_scene(),))"
   ]
  },
  {
   "cell_type": "code",
   "execution_count": null,
   "id": "2ae80719-ec32-4594-a907-5175219ddc2a",
   "metadata": {},
   "outputs": [],
   "source": [
    "out._repr_html_()"
   ]
  },
  {
   "cell_type": "code",
   "execution_count": null,
   "id": "d76b9849-4699-49f5-9aef-2302cdd1b935",
   "metadata": {},
   "outputs": [],
   "source": [
    "out"
   ]
  },
  {
   "cell_type": "code",
   "execution_count": null,
   "id": "2480edd3-c565-4c40-834a-8d6147999f1f",
   "metadata": {},
   "outputs": [],
   "source": [
    "from aircleaning.produce import *"
   ]
  },
  {
   "cell_type": "code",
   "execution_count": null,
   "id": "12daec33-b59a-4228-9783-0a41cddaf2db",
   "metadata": {},
   "outputs": [],
   "source": [
    "\n",
    "\n",
    "\n",
    "def decision_tool_with_room(path=productsdir, name='decision_tool'):\n",
    "\n",
    "    vols, quals = load.get_volume_data(), load.get_quality_data()\n",
    "\n",
    "    strn = ''\n",
    "\n",
    "    strn += '\\n' + '\\n'.join((\n",
    "        '''<link rel=\"stylesheet\" href=\"//dds-gen3.web.unimelb.edu.au/v12.1.3/uom.css\">''',\n",
    "        '''<link rel=\"stylesheet\" href=\"https://cms.unimelb.edu.au/__data/assets/css_file_folder/0008/3224951/uom-mce-gen3.css?v=0.0.202\">''',\n",
    "        ))\n",
    "\n",
    "    strn += '\\n' + '\\n'.join((\n",
    "        '''<script>''',\n",
    "        '''    function update (form){''',\n",
    "        '''        for (vol = 0; vol < 3; vol++) {''',\n",
    "        '''            if (form.volume[vol].checked)''',\n",
    "        '''                break;''',\n",
    "        '''            }''',\n",
    "        '''        for (qual = 0; qual < 3; qual++) {''',\n",
    "        '''            if (form.quality[qual].checked)''',\n",
    "        '''                break;''',\n",
    "        '''            }''',\n",
    "        '''        image = document.getElementById('chosenimage')   ''',\n",
    "        '''        image.src = \"https://rsbyrne.github.io/aircleaning/products/\" + vol + \"_\" + qual + \".png\"''',\n",
    "        '''        image.alt = \"Volume chosen: \" + vol + \" , quality chosen: \" + qual''',\n",
    "        '''        }''',\n",
    "        '''</script>''',\n",
    "        ))\n",
    "\n",
    "    strn += '\\n' + '\\n'.join((\n",
    "        '''<div class=\"uomcontent\" role=\"document\" id=\"top\">''',\n",
    "        # '''<h1>Decision Tool</h2>''',\n",
    "        '''<div class=\"main\" id=\"\" role=\"main\">''',\n",
    "        '''<p class=\"notice notice--info\" style=\"padding-top: 1.5rem;\">''',\n",
    "        '''Running costs and noise levels (on the highest fan settings) are calculated from manufacturer data. Select the approximate volume and the additional air cleaning to ventilation that you require. Natural ventilation provides 1-2 ACH; mechanical ventilation is higher. You will see that multiple devices sometimes provides the best effective air cleaning for the best value and noise requirements of your space.''',\n",
    "        '''</p>''',\n",
    "        '''<form id=\"userinput\" >''',\n",
    "        ))\n",
    "\n",
    "    strn += '\\n' + '\\n'.join((\n",
    "        '''<div class=\"sq-form-question sq-form-question-tickbox-list \">''',\n",
    "        '''<fieldset id=\"volumeoptions\" class=\"sq-form-section\">''',\n",
    "        '''<legend class=\"sq-form-section-title\">How big is the room you want to put your air purifier in?</legend>''',\n",
    "        ))\n",
    "    strn += '\\n' + make_cost_analysis_form_channel('volume', vols)\n",
    "    strn += '\\n' + '\\n'.join((\n",
    "        '''</fieldset>''',\n",
    "        '''</div>'''\n",
    "        ))\n",
    "\n",
    "    strn += '\\n' + '\\n'.join((\n",
    "        '''<div class=\"sq-form-question sq-form-question-tickbox-list \">''',\n",
    "        '''<br/>''',\n",
    "        '''<fieldset id=\"qualityoptions\" class=\"sq-form-section\">''',\n",
    "        '''<legend class=\"sq-form-section-title\">How much additional air cleaning do you require?</legend>''',\n",
    "        ))\n",
    "    strn += '\\n' + make_cost_analysis_form_channel('quality', quals)\n",
    "    strn += '\\n' + '\\n'.join((\n",
    "        '''</fieldset>''',\n",
    "        '''</div>'''\n",
    "        ))\n",
    "\n",
    "    strn += '\\n' + '\\n'.join((\n",
    "        '''</form>''',\n",
    "        f'''<p><em>Last updated {str(date.today())}</em><p>''',\n",
    "        '''<figure class=\"figure figure--min\">'''\n",
    "        '''<img id = 'chosenimage' src='https://rsbyrne.github.io/aircleaning/products/placeholder.png' alt=\"Cost analysis\">''',\n",
    "        '''</figure>''',\n",
    "        ))\n",
    "\n",
    "    strn += '\\n' + '\\n'.join((\n",
    "        '''<script>''',\n",
    "        '''update(document.getElementById('userinput'))''',\n",
    "        '''</script>''',\n",
    "        ))\n",
    "\n",
    "    with open(os.path.join(productsdir, name) + '.html', mode='w') as file:\n",
    "        file.write(strn)"
   ]
  }
 ],
 "metadata": {
  "kernelspec": {
   "display_name": "Python 3 (ipykernel)",
   "language": "python",
   "name": "python3"
  },
  "language_info": {
   "codemirror_mode": {
    "name": "ipython",
    "version": 3
   },
   "file_extension": ".py",
   "mimetype": "text/x-python",
   "name": "python",
   "nbconvert_exporter": "python",
   "pygments_lexer": "ipython3",
   "version": "3.9.5"
  }
 },
 "nbformat": 4,
 "nbformat_minor": 5
}
