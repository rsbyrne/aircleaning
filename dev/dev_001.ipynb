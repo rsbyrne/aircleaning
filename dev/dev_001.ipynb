{
 "cells": [
  {
   "cell_type": "code",
   "execution_count": null,
   "id": "daa8189b-eb24-4047-a488-f900c5dc3ad0",
   "metadata": {},
   "outputs": [],
   "source": [
    "import sys, os\n",
    "repodir = os.path.abspath('..')\n",
    "if not repodir in sys.path:\n",
    "    sys.path.append(repodir)"
   ]
  },
  {
   "cell_type": "code",
   "execution_count": null,
   "id": "f8f3cbf3-51b5-4dfc-85fd-787bae61ead8",
   "metadata": {},
   "outputs": [],
   "source": [
    "from aircleaning import svg, html"
   ]
  },
  {
   "cell_type": "code",
   "execution_count": null,
   "id": "4b159f99-62b3-4225-ae39-121275158311",
   "metadata": {},
   "outputs": [],
   "source": [
    "html.Input('range')"
   ]
  },
  {
   "cell_type": "code",
   "execution_count": null,
   "id": "40e5f410-97b4-487b-8c33-d3825b568c57",
   "metadata": {},
   "outputs": [],
   "source": [
    "html.TabbedPanes(\n",
    "    html.Div(svg.draw_scene(windows=2), identity=\"Room 1\", style=\"text-align:center;\"),\n",
    "    html.Div(svg.draw_scene(windows=3), identity=\"Room 2\", style=\"text-align:center;\"),\n",
    "    )"
   ]
  },
  {
   "cell_type": "markdown",
   "id": "16139f05-bc65-474b-a0b9-46fc3ad04610",
   "metadata": {},
   "source": [
    "<input type=\"range\" min=\"1\" max=\"100\" value=\"50\"> 50"
   ]
  },
  {
   "cell_type": "code",
   "execution_count": null,
   "id": "810f4725-a914-41f7-a025-f64c299848f3",
   "metadata": {},
   "outputs": [],
   "source": [
    "page = html.Page(\n",
    "    html.TabbedPanes(\n",
    "        html.Div(svg.draw_scene(windows=2), identity=\"Room 1\", style=\"text-align:center;\"),\n",
    "        html.Div(svg.draw_scene(windows=3), identity=\"Room 2\", style=\"text-align:center;\"),\n",
    "        )\n",
    "    )\n",
    "display(page)\n",
    "# print(page._repr_html_())\n",
    "with open('test.html', mode='w') as file:\n",
    "    file.write(page._repr_html_())"
   ]
  },
  {
   "cell_type": "code",
   "execution_count": null,
   "id": "6914e3ca-1e99-4205-8aca-4b573e5544a5",
   "metadata": {},
   "outputs": [],
   "source": [
    "el1 = html.Paragraph('foo', identity='el1')\n",
    "el2 = html.Paragraph('bah', identity='el2')\n",
    "panes = html.TabPanes(el1, el2)\n",
    "display(panes)\n",
    "# print(panes._repr_html_())\n",
    "# with open('test.html', mode='w') as file:\n",
    "#     file.write(panes._repr_html_())"
   ]
  },
  {
   "cell_type": "code",
   "execution_count": null,
   "id": "ae37ad28-29a8-4d10-9144-c2576fd4dcf3",
   "metadata": {},
   "outputs": [],
   "source": []
  },
  {
   "cell_type": "code",
   "execution_count": null,
   "id": "0f2c8d8b-88fc-4be8-baa9-957938bcad66",
   "metadata": {},
   "outputs": [],
   "source": [
    "panes."
   ]
  },
  {
   "cell_type": "code",
   "execution_count": null,
   "id": "996fb655-8447-461d-8154-8d800c66ef8a",
   "metadata": {},
   "outputs": [],
   "source": [
    "panes.contents[0].contents"
   ]
  },
  {
   "cell_type": "code",
   "execution_count": null,
   "id": "db3bda6f-65d1-4c13-aafe-480d8e1dfe74",
   "metadata": {},
   "outputs": [],
   "source": [
    "page = html.Page(\n",
    "    html.Form(\n",
    "        html.RadioSet(\n",
    "            'How big is the room?',\n",
    "            ('Foo', 'Bah', 'Qin'), default='Bah',\n",
    "            ),\n",
    "        html.RadioSet(\n",
    "            'More options',\n",
    "            ('One', 'Two'), default='Two',\n",
    "            ),\n",
    "        ),\n",
    "    svg.draw_scene(),\n",
    "    )\n",
    "display(page)\n",
    "print(page._repr_html_())"
   ]
  },
  {
   "cell_type": "code",
   "execution_count": null,
   "id": "99783f45-11dd-4dff-9d22-7242a53cff55",
   "metadata": {},
   "outputs": [],
   "source": [
    "page = html.Page(\n",
    "    \"This is some text.\",\n",
    "    # html.Link('stylesheet', \"//dds-gen3.web.unimelb.edu.au/v12.1.3/uom.css\"),\n",
    "    # html.Link(\n",
    "    #     'stylesheet',\n",
    "    #     \"https://cms.unimelb.edu.au/__data/assets/css_file_folder/0008/3224951/uom-mce-gen3.css?v=0.0.202\"\n",
    "    #     ),\n",
    "    html.Div(\n",
    "        html.Div(\n",
    "            html.Div(\n",
    "                html.Form(\n",
    "                    html.RadioSet(\n",
    "                        'Some options', ('Foo', 'Bah', 'Qin'), default='Bah',\n",
    "                        classes=(\"sq-form-section\",),\n",
    "                        ),\n",
    "                    html.RadioSet(\n",
    "                        'More options', ('One', 'Two'), default='Bah',\n",
    "                        classes=(\"sq-form-section\",),\n",
    "                        ),\n",
    "                    ),\n",
    "                classes=(\"sq-form-question sq-form-question-tickbox-list\",)\n",
    "                ),\n",
    "            classes=('main',), role='main',\n",
    "            ),\n",
    "        classes=('uomcontent',), role='document', identity='top',\n",
    "        )\n",
    "    )\n",
    "display(page)\n",
    "print(page._repr_html_())"
   ]
  },
  {
   "cell_type": "code",
   "execution_count": null,
   "id": "12daec33-b59a-4228-9783-0a41cddaf2db",
   "metadata": {},
   "outputs": [],
   "source": [
    "def make_cost_analysis_form_channel(overname, data, /):\n",
    "    levels = data['levels'].astype(int)\n",
    "    unit = data.attrs['units']['levels']\n",
    "    if unit[-1].isnumeric():\n",
    "        unit = f\"{unit[:-1]}<sup>{unit[-1]}</sup>\"\n",
    "    strn = ''\n",
    "    for i, name in enumerate(data.index):\n",
    "        checked = 'checked ' if i == 1 else ''\n",
    "        strn += '\\n' + '\\n'.join((\n",
    "            f'''<input type=\"radio\" id='{name}op' value=\"{name}\" name=\"{overname}\" {checked}onClick=\"update(this.form)\">''',\n",
    "            f'''<label for=\"{name}op\">{name.capitalize()} ({levels[name]}{unit})</label>''',\n",
    "            ))\n",
    "    return strn\n",
    "\n",
    "\n",
    "def decision_tool_with_room(path=productsdir, name='decision_tool'):\n",
    "\n",
    "    vols, quals = load.get_volume_data(), load.get_quality_data()\n",
    "\n",
    "    strn = ''\n",
    "\n",
    "    strn += '\\n' + '\\n'.join((\n",
    "        '''<link rel=\"stylesheet\" href=\"//dds-gen3.web.unimelb.edu.au/v12.1.3/uom.css\">''',\n",
    "        '''<link rel=\"stylesheet\" href=\"https://cms.unimelb.edu.au/__data/assets/css_file_folder/0008/3224951/uom-mce-gen3.css?v=0.0.202\">''',\n",
    "        ))\n",
    "\n",
    "    strn += '\\n' + '\\n'.join((\n",
    "        '''<script>''',\n",
    "        '''    function update (form){''',\n",
    "        '''        for (vol = 0; vol < 3; vol++) {''',\n",
    "        '''            if (form.volume[vol].checked)''',\n",
    "        '''                break;''',\n",
    "        '''            }''',\n",
    "        '''        for (qual = 0; qual < 3; qual++) {''',\n",
    "        '''            if (form.quality[qual].checked)''',\n",
    "        '''                break;''',\n",
    "        '''            }''',\n",
    "        '''        image = document.getElementById('chosenimage')   ''',\n",
    "        '''        image.src = \"https://rsbyrne.github.io/aircleaning/products/\" + vol + \"_\" + qual + \".png\"''',\n",
    "        '''        image.alt = \"Volume chosen: \" + vol + \" , quality chosen: \" + qual''',\n",
    "        '''        }''',\n",
    "        '''</script>''',\n",
    "        ))\n",
    "\n",
    "    strn += '\\n' + '\\n'.join((\n",
    "        '''<div class=\"uomcontent\" role=\"document\" id=\"top\">''',\n",
    "        # '''<h1>Decision Tool</h2>''',\n",
    "        '''<div class=\"main\" id=\"\" role=\"main\">''',\n",
    "        '''<p class=\"notice notice--info\" style=\"padding-top: 1.5rem;\">''',\n",
    "        '''Running costs and noise levels (on the highest fan settings) are calculated from manufacturer data. Select the approximate volume and the additional air cleaning to ventilation that you require. Natural ventilation provides 1-2 ACH; mechanical ventilation is higher. You will see that multiple devices sometimes provides the best effective air cleaning for the best value and noise requirements of your space.''',\n",
    "        '''</p>''',\n",
    "        '''<form id=\"userinput\" >''',\n",
    "        ))\n",
    "\n",
    "    strn += '\\n' + '\\n'.join((\n",
    "        '''<div class=\"sq-form-question sq-form-question-tickbox-list \">''',\n",
    "        '''<fieldset id=\"volumeoptions\" class=\"sq-form-section\">''',\n",
    "        '''<legend class=\"sq-form-section-title\">How big is the room you want to put your air purifier in?</legend>''',\n",
    "        ))\n",
    "    strn += '\\n' + make_cost_analysis_form_channel('volume', vols)\n",
    "    strn += '\\n' + '\\n'.join((\n",
    "        '''</fieldset>''',\n",
    "        '''</div>'''\n",
    "        ))\n",
    "\n",
    "    strn += '\\n' + '\\n'.join((\n",
    "        '''<div class=\"sq-form-question sq-form-question-tickbox-list \">''',\n",
    "        '''<br/>''',\n",
    "        '''<fieldset id=\"qualityoptions\" class=\"sq-form-section\">''',\n",
    "        '''<legend class=\"sq-form-section-title\">How much additional air cleaning do you require?</legend>''',\n",
    "        ))\n",
    "    strn += '\\n' + make_cost_analysis_form_channel('quality', quals)\n",
    "    strn += '\\n' + '\\n'.join((\n",
    "        '''</fieldset>''',\n",
    "        '''</div>'''\n",
    "        ))\n",
    "\n",
    "    strn += '\\n' + '\\n'.join((\n",
    "        '''</form>''',\n",
    "        f'''<p><em>Last updated {str(date.today())}</em><p>''',\n",
    "        '''<figure class=\"figure figure--min\">'''\n",
    "        '''<img id = 'chosenimage' src='https://rsbyrne.github.io/aircleaning/products/placeholder.png' alt=\"Cost analysis\">''',\n",
    "        '''</figure>''',\n",
    "        ))\n",
    "\n",
    "    strn += '\\n' + '\\n'.join((\n",
    "        '''<script>''',\n",
    "        '''update(document.getElementById('userinput'))''',\n",
    "        '''</script>''',\n",
    "        ))\n",
    "\n",
    "    with open(os.path.join(productsdir, name) + '.html', mode='w') as file:\n",
    "        file.write(strn)"
   ]
  }
 ],
 "metadata": {
  "kernelspec": {
   "display_name": "Python 3 (ipykernel)",
   "language": "python",
   "name": "python3"
  },
  "language_info": {
   "codemirror_mode": {
    "name": "ipython",
    "version": 3
   },
   "file_extension": ".py",
   "mimetype": "text/x-python",
   "name": "python",
   "nbconvert_exporter": "python",
   "pygments_lexer": "ipython3",
   "version": "3.9.5"
  }
 },
 "nbformat": 4,
 "nbformat_minor": 5
}
