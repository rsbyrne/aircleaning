{
 "cells": [
  {
   "cell_type": "code",
   "execution_count": 219,
   "id": "8f5985cc-8fb0-4710-8508-9d7b0de5b59c",
   "metadata": {},
   "outputs": [
    {
     "data": {
      "text/plain": [
       "array([[ 0,  0,  0],\n",
       "       [ 9, 18, 27]])"
      ]
     },
     "execution_count": 219,
     "metadata": {},
     "output_type": "execute_result"
    }
   ],
   "source": [
    "myarr = np.array([\n",
    "    [1, 2, 3],\n",
    "    [10, 20, 30],\n",
    "    ])\n",
    "adj = (1, 2, 3)\n",
    "myarr - adj"
   ]
  },
  {
   "cell_type": "code",
   "execution_count": 294,
   "id": "5542a33a-272c-4176-99fe-f95286ec6677",
   "metadata": {},
   "outputs": [],
   "source": [
    "import abc\n",
    "from collections import UserList\n",
    "\n",
    "import numpy as np\n",
    "from scipy.spatial.transform import Rotation\n",
    "\n",
    "\n",
    "def svg_polygon(arr, fill='red'):\n",
    "    pointstr = ' '.join(f\"{x},{y}\" for x, y in arr)\n",
    "    return f'''<polygon fill=\"{fill}\" points=\"{pointstr}\"/>'''\n",
    "\n",
    "def svg(width, height, *svgelements):\n",
    "    return (\n",
    "        f'''<svg width=\"{width}\" height=\"{height}\" style=\"background-color:white\">'''\n",
    "        f\"{' '.join(svgelements)}\"\n",
    "        f'''</svg>'''\n",
    "        )\n",
    "\n",
    "\n",
    "class Transform:\n",
    "\n",
    "    __slots__ = ('_panval', '_tiltval', '_focus', '_transform')\n",
    "\n",
    "    def __init__(self, pan=0, tilt=0, focus=(0, 0, 0)):\n",
    "        self.panval, self.tiltval = map(float, (pan, tilt))\n",
    "        self._focus = np.array(focus, dtype=float)\n",
    "\n",
    "    @property\n",
    "    def panval(self, /):\n",
    "        return self._panval\n",
    "\n",
    "    @panval.setter\n",
    "    def panval(self, val, /):\n",
    "        self._panval = float(val)\n",
    "        try:\n",
    "            del self._transform\n",
    "        except AttributeError:\n",
    "            pass\n",
    "\n",
    "    @property\n",
    "    def tiltval(self, /):\n",
    "        return self._tiltval\n",
    "\n",
    "    @tiltval.setter\n",
    "    def tiltval(self, val, /):\n",
    "        self._tiltval = float(val)\n",
    "        try:\n",
    "            del self._transform\n",
    "        except AttributeError:\n",
    "            pass\n",
    "\n",
    "    def pan(self, val, /):\n",
    "        self.panval += val\n",
    "\n",
    "    def tilt(self, val, /):\n",
    "        self.tiltval += val\n",
    "\n",
    "    @property\n",
    "    def focus(self, /):\n",
    "        return self._focus\n",
    "\n",
    "    @focus.setter\n",
    "    def focus(self, val, /):\n",
    "        self._focus[...] = val\n",
    "\n",
    "    @property\n",
    "    def transform(self, /):\n",
    "        try:\n",
    "            return self._transform\n",
    "        except AttributeError:\n",
    "            transform = self._transform = \\\n",
    "                Rotation.from_euler('zx', (-self.panval, -self.tiltval), degrees=True)\n",
    "            return transform\n",
    "\n",
    "    def __call__(self, arr, /):\n",
    "        return self.transform.apply(np.array(arr) - self.focus)\n",
    "\n",
    "\n",
    "class Projection:\n",
    "\n",
    "    __slots__ = ('_width', '_height', '_scale')\n",
    "\n",
    "    def __init__(self, width=424, height=300, scale=1):\n",
    "        self.width, self.height, self.scaleval = width, height, scale\n",
    "\n",
    "    @property\n",
    "    def width(self, /):\n",
    "        return self._width\n",
    "\n",
    "    @width.setter\n",
    "    def width(self, val, /):\n",
    "        self._width = int(val)\n",
    "\n",
    "    @property\n",
    "    def height(self, /):\n",
    "        return self._height\n",
    "\n",
    "    @height.setter\n",
    "    def height(self, val, /):\n",
    "        self._height = int(val)\n",
    "\n",
    "    @property\n",
    "    def scale(self, /):\n",
    "        return self._scale\n",
    "\n",
    "    @scale.setter\n",
    "    def scaleval(self, val, /):\n",
    "        self._scale = float(val)\n",
    "\n",
    "    def scale(self, val, /):\n",
    "        self.scaleval *= val\n",
    "\n",
    "    def __call__(self, arg, /):\n",
    "        arr = np.array(arg)[:, :-1] * self.scaleval\n",
    "        arr[:, 0] += self.width / 2\n",
    "        arr[:, 1] = self.height / 2 - arr[:, 1]\n",
    "        return arr\n",
    "\n",
    "\n",
    "class View:\n",
    "\n",
    "    __slots__ = ('_projection', '_transform')\n",
    "\n",
    "    def __init__(self, projection, transform):\n",
    "        self._projection, self._transform = projection, transform\n",
    "\n",
    "    @property\n",
    "    def projection(self, /):\n",
    "        return self._projection\n",
    "\n",
    "    @property\n",
    "    def transform(self, /):\n",
    "        return self._transform\n",
    "\n",
    "    def __call__(self, entity, /):\n",
    "        return self.projection(self.transform(entity))\n",
    "\n",
    "\n",
    "class Canvas(UserList):\n",
    "\n",
    "    __slots__ = ('_view',)\n",
    "\n",
    "    def __init__(self, view = None):\n",
    "        super().__init__()\n",
    "        if view is None:\n",
    "            view = View(Projection(), Transform())\n",
    "        self._view = view\n",
    "\n",
    "    @property\n",
    "    def view(self, /):\n",
    "        return self._view\n",
    "\n",
    "    @property\n",
    "    def projection(self, /):\n",
    "        return self.view.projection\n",
    "\n",
    "    @property\n",
    "    def transform(self, /):\n",
    "        return self.view.transform\n",
    "\n",
    "    def draw_svg(self, /):\n",
    "        return (\n",
    "            f'''<svg '''\n",
    "            f'''width=\"{self.projection.width}\" height=\"{self.projection.height}\" '''\n",
    "            f'''style=\"background-color:white\"'''\n",
    "            f'''>'''\n",
    "            f'''{' '.join(element.draw(self.view) for element in self)}'''\n",
    "            '''</svg>'''\n",
    "            )\n",
    "\n",
    "    def _repr_svg_(self):\n",
    "        return self.draw_svg()\n",
    "\n",
    "\n",
    "class Flat:\n",
    "\n",
    "    _omap = {\n",
    "        'xy': (0, 1, 2),\n",
    "        'xz': (0, 2, 1),\n",
    "        'yz': (1, 2, 0),\n",
    "        }\n",
    "\n",
    "    __slots__ = ('_u0', '_u1', '_v0', '_v1', '_orientation', '_fill', '_fixed')\n",
    "\n",
    "    def __init__(self, orientation, u0, u1, v0, v1, fixed, fill='black'):\n",
    "        self.orientation = str(orientation)\n",
    "        self.fill = fill\n",
    "        self.u0, self.u1, self.v0, self.v1, self.fixed = u0, u1, v0, v1, fixed\n",
    "\n",
    "    @property\n",
    "    def orientation(self, /):\n",
    "        return self._orientation\n",
    "\n",
    "    @orientation.setter\n",
    "    def orientation(self, val, /):\n",
    "        val = str(val)\n",
    "        if val not in self._omap:\n",
    "            raise ValueError(val)\n",
    "        self._orientation = val\n",
    "\n",
    "    @property\n",
    "    def fill(self, /):\n",
    "        return self._fill\n",
    "\n",
    "    @fill.setter\n",
    "    def fill(self, val, /):\n",
    "        self._fill = str(val)\n",
    "\n",
    "    @property\n",
    "    def u0(self, /):\n",
    "        return self._u0\n",
    "\n",
    "    @u0.setter\n",
    "    def u0(self, val, /):\n",
    "        self._u0 = float(val)\n",
    "\n",
    "    @property\n",
    "    def u1(self, /):\n",
    "        return self._u1\n",
    "\n",
    "    @u1.setter\n",
    "    def u1(self, val, /):\n",
    "        self._u1 = float(val)\n",
    "\n",
    "    @property\n",
    "    def v0(self, /):\n",
    "        return self._v0\n",
    "\n",
    "    @v0.setter\n",
    "    def v0(self, val, /):\n",
    "        self._v0 = float(val)\n",
    "\n",
    "    @property\n",
    "    def v1(self, /):\n",
    "        return self._v1\n",
    "\n",
    "    @v1.setter\n",
    "    def v1(self, val, /):\n",
    "        self._v1 = float(val)\n",
    "\n",
    "    @property\n",
    "    def fixed(self, /):\n",
    "        return self._fixed\n",
    "\n",
    "    @fixed.setter\n",
    "    def fixed(self, val, /):\n",
    "        self._fixed = float(val)    \n",
    "\n",
    "    @property\n",
    "    def ul(self, /):\n",
    "        return self.u1 - self.u0\n",
    "\n",
    "    @ul.setter\n",
    "    def ul(self, val, /):\n",
    "        mid = (self.u0 + self.u1) / 2\n",
    "        val = val / 2\n",
    "        self.u0 = mid - val\n",
    "        self.u1 = mid + val\n",
    "\n",
    "    @property\n",
    "    def vl(self, /):\n",
    "        return self.v1 - self.v0\n",
    "\n",
    "    @vl.setter\n",
    "    def vl(self, val, /):\n",
    "        mid = (self.v0 + self.v1) / 2\n",
    "        val = val / 2\n",
    "        self.v0 = mid - val\n",
    "        self.v1 = mid + val\n",
    "\n",
    "    def uscale(self, val, /):\n",
    "        self.ul *= val\n",
    "\n",
    "    def vscale(self, val, /):\n",
    "        self.vl *= val\n",
    "\n",
    "    def scale(self, val):\n",
    "        self.uscale(val)\n",
    "        self.vscale(val)\n",
    "\n",
    "    @property\n",
    "    def foo(self, /):\n",
    "        ...\n",
    "\n",
    "    @property\n",
    "    def u(self, /):\n",
    "        return (self.u0 + self.u1) / 2\n",
    "\n",
    "    @u.setter\n",
    "    def u(self, val, /):\n",
    "        half = self.ul / 2\n",
    "        self.u0 = val - half\n",
    "        self.u1 = val + half\n",
    "\n",
    "    @property\n",
    "    def v(self, /):\n",
    "        return (self.v0 + self.v1) / 2\n",
    "\n",
    "    @v.setter\n",
    "    def v(self, val, /):\n",
    "        half = self.vl / 2\n",
    "        self.v0 = val - half\n",
    "        self.v1 = val + half\n",
    "\n",
    "    def __array__(self, /):\n",
    "        out = np.empty((4, 3), dtype=float)\n",
    "        ud, vd, fd = self._omap[self.orientation]\n",
    "        out[:, ud] = (self.u0, self.u0, self.u1, self.u1)\n",
    "        out[:, vd] = (self.v0, self.v1, self.v1, self.v0)\n",
    "        out[:, fd] = self.fixed\n",
    "        return out\n",
    "\n",
    "    def draw(self, view, /):\n",
    "        return svg_polygon(view(self), fill=self.fill)\n",
    "\n",
    "\n",
    "class Box:\n",
    "\n",
    "    def __init__(self, left, right, bottom, top, near, far):\n",
    "        self.left, self.right, self.bottom, self.top, self.near, self.far = \\\n",
    "            tuple(map(float, (left, right, bottom, top, near, far)))\n",
    "\n",
    "    @property\n",
    "    def breadth(self, /):\n",
    "        return self.right - self.left\n",
    "\n",
    "    @property\n",
    "    def height(self, /):\n",
    "        return self.top - self.bottom\n",
    "\n",
    "    @property\n",
    "    def depth(self, /):\n",
    "        return self.far - self.near\n",
    "\n",
    "    @property\n",
    "    def centre(self, /):\n",
    "        return (\n",
    "            (self.left + self.breadth / 2),\n",
    "            (self.bottom + self.height / 2),\n",
    "            (self.near + self.depth / 2),\n",
    "            )\n",
    "\n",
    "    def flat(self, side, /, **kwargs):\n",
    "        if side in ('bottom', 'top'):\n",
    "            out = Flat(\n",
    "                'xy',\n",
    "                self.left, self.right, self.near, self.far,\n",
    "                getattr(self, side)\n",
    "                )\n",
    "        elif side in ('near', 'far'):\n",
    "            out = Flat(\n",
    "                'xz',\n",
    "                self.left, self.right, self.bottom, self.top,\n",
    "                getattr(self, side)\n",
    "                )\n",
    "        elif side in ('left', 'right'):\n",
    "            out = Flat(\n",
    "                'yz',\n",
    "                self.near, self.far, self.bottom, self.top,\n",
    "                getattr(self, side)\n",
    "                )\n",
    "        else:\n",
    "            raise ValueError(side)\n",
    "        return out"
   ]
  },
  {
   "cell_type": "code",
   "execution_count": 295,
   "id": "bdd93d42-1286-470b-84c4-a18d43cb4c51",
   "metadata": {},
   "outputs": [],
   "source": [
    "canvas = Canvas()"
   ]
  },
  {
   "cell_type": "code",
   "execution_count": 296,
   "id": "c1b8c46e-8478-427c-bbc0-f801b168e21c",
   "metadata": {},
   "outputs": [],
   "source": [
    "box = Box(0, 5, 0, 2, 0, 3)\n",
    "window1 = Flat('xz', 1, 1.3, 0.8, 1.6, box.far, fill='white')\n",
    "window2 = Flat('xz', 5-1, 5-1.3, 0.8, 1.6, box.far, fill='white')\n",
    "# person = \n",
    "door = Flat('yz', 1, 2, 0, 1.5, box.right, fill='white')\n",
    "floor, wall0, wall1 = (box.flat(side) for side in ('bottom', 'far', 'right'))\n",
    "floor.fill = 'green'\n",
    "wall0.fill = 'blue'\n",
    "wall1.fill = 'red'"
   ]
  },
  {
   "cell_type": "code",
   "execution_count": 297,
   "id": "589a7696-6918-4e9a-a091-aa98d8debe60",
   "metadata": {},
   "outputs": [],
   "source": [
    "canvas.extend((floor, wall0, wall1, window1, window2, door))"
   ]
  },
  {
   "cell_type": "code",
   "execution_count": 298,
   "id": "2d9f701c-7381-4115-8d9d-3abc6e95e108",
   "metadata": {},
   "outputs": [
    {
     "data": {
      "text/plain": [
       "array([2.5, 1. , 1.5])"
      ]
     },
     "execution_count": 298,
     "metadata": {},
     "output_type": "execute_result"
    }
   ],
   "source": [
    "canvas.transform.focus = box.centre\n",
    "canvas.transform.focus"
   ]
  },
  {
   "cell_type": "code",
   "execution_count": 299,
   "id": "91061ac5-c592-4d67-af06-466cee22332e",
   "metadata": {},
   "outputs": [],
   "source": [
    "canvas.transform.focus = box.centre\n",
    "canvas.transform.pan(-30)\n",
    "canvas.transform.tilt(60)\n",
    "canvas.projection.scale(50)"
   ]
  },
  {
   "cell_type": "code",
   "execution_count": 300,
   "id": "f8f4a07d-fa92-4839-84c2-22b673ac7eca",
   "metadata": {},
   "outputs": [
    {
     "data": {
      "text/plain": [
       "array([2.5, 1. , 1.5])"
      ]
     },
     "execution_count": 300,
     "metadata": {},
     "output_type": "execute_result"
    }
   ],
   "source": [
    "canvas.transform.focus"
   ]
  },
  {
   "cell_type": "code",
   "execution_count": 303,
   "id": "9b6225db-abba-451b-a3a9-f5aca7438bfe",
   "metadata": {},
   "outputs": [
    {
     "data": {
      "text/plain": [
       "(2.5, 1.0, 1.5)"
      ]
     },
     "execution_count": 303,
     "metadata": {},
     "output_type": "execute_result"
    }
   ],
   "source": [
    "box.centre"
   ]
  },
  {
   "cell_type": "code",
   "execution_count": 304,
   "id": "460a0d73-b8c5-4fc7-8345-c2aa14d56aaf",
   "metadata": {},
   "outputs": [
    {
     "data": {
      "image/svg+xml": [
       "<svg width=\"424\" height=\"300\" style=\"background-color:white\"><polygon fill=\"green\" points=\"128.74682452694518,267.8525403784439 53.746824526945176,202.90063509461098 270.2531754730548,140.40063509461095 345.25317547305485,205.35254037844385\"/> <polygon fill=\"blue\" points=\"53.746824526945176,202.90063509461098 53.746824526945176,116.29809471616711 270.2531754730548,53.79809471616707 270.2531754730548,140.40063509461095\"/> <polygon fill=\"red\" points=\"345.25317547305485,205.35254037844385 345.25317547305485,118.74999999999999 270.2531754730548,53.79809471616707 270.2531754730548,140.40063509461095\"/> <polygon fill=\"white\" points=\"97.0480947161671,155.75961894323342 97.0480947161671,121.11860279185588 110.0384757729337,117.36860279185586 110.0384757729337,152.00961894323342\"/> <polygon fill=\"white\" points=\"226.9519052838329,118.2596189432334 226.9519052838329,83.61860279185585 213.96152422706632,87.36860279185586 213.96152422706632,122.0096189432334\"/> <polygon fill=\"white\" points=\"320.25317547305485,183.7019052838329 320.25317547305485,118.74999999999999 295.25317547305485,97.09936490538902 295.25317547305485,162.05127018922192\"/></svg>"
      ],
      "text/plain": [
       "Canvas([<__main__.Flat at 0x7f53f83e0820>,\n",
       "        <__main__.Flat at 0x7f53f83e0880>,\n",
       "        <__main__.Flat at 0x7f53f83e08e0>,\n",
       "        <__main__.Flat at 0x7f53f83e0700>,\n",
       "        <__main__.Flat at 0x7f53f83e0760>,\n",
       "        <__main__.Flat at 0x7f53f83e07c0>])"
      ]
     },
     "execution_count": 304,
     "metadata": {},
     "output_type": "execute_result"
    }
   ],
   "source": [
    "canvas"
   ]
  },
  {
   "cell_type": "code",
   "execution_count": 265,
   "id": "6cc41833-6091-49f3-9446-fe9325d0a2c8",
   "metadata": {},
   "outputs": [
    {
     "data": {
      "text/plain": [
       "array([1, 1, 1])"
      ]
     },
     "execution_count": 265,
     "metadata": {},
     "output_type": "execute_result"
    }
   ],
   "source": [
    "canvas.transform.focus + (1, 1, 1)"
   ]
  },
  {
   "cell_type": "code",
   "execution_count": 273,
   "id": "4fd83af1-c00d-48b8-b39f-9bc256a21cf7",
   "metadata": {},
   "outputs": [
    {
     "data": {
      "image/svg+xml": [
       "<svg width=\"424\" height=\"300\" style=\"background-color:white\"><polygon fill=\"green\" points=\"159.5480947161671,309.47912811497133 84.5480947161671,244.52722283113837 301.05444566227675,182.02722283113837 376.05444566227675,246.97912811497127\"/> <polygon fill=\"blue\" points=\"84.5480947161671,244.52722283113837 84.5480947161671,157.92468245269453 301.05444566227675,95.42468245269448 301.05444566227675,182.02722283113837\"/> <polygon fill=\"red\" points=\"376.05444566227675,246.97912811497127 376.05444566227675,160.3765877365274 301.05444566227675,95.42468245269448 301.05444566227675,182.02722283113837\"/> <polygon fill=\"white\" points=\"136.50961894323342,207.8765877365274 136.50961894323342,164.57531754730547 149.5,160.82531754730547 149.5,204.1265877365274\"/> <polygon fill=\"white\" points=\"236.10254037844388,179.1265877365274 236.10254037844385,135.82531754730547 249.09292143521043,132.07531754730547 249.09292143521046,175.3765877365274\"/> <polygon fill=\"white\" points=\"346.05444566227675,220.99836600143811 346.05444566227675,169.03684177437177 331.05444566227675,156.04646071760519 331.05444566227675,208.00798494467153\"/></svg>"
      ],
      "text/plain": [
       "Canvas([<__main__.Flat at 0x7f53f844f880>,\n",
       "        <__main__.Flat at 0x7f53f844f8e0>,\n",
       "        <__main__.Flat at 0x7f53f844f6a0>,\n",
       "        <__main__.Flat at 0x7f53f844fa60>,\n",
       "        <__main__.Flat at 0x7f53f844f9a0>,\n",
       "        <__main__.Flat at 0x7f53f844f940>])"
      ]
     },
     "execution_count": 273,
     "metadata": {},
     "output_type": "execute_result"
    }
   ],
   "source": [
    "canvas.transform.focus += (0, 0, 1)\n",
    "canvas"
   ]
  },
  {
   "cell_type": "code",
   "execution_count": 213,
   "id": "88658960-5bcc-48f1-ada6-ea3d705d3050",
   "metadata": {},
   "outputs": [
    {
     "data": {
      "image/svg+xml": [
       "<svg width=\"424\" height=\"300\" style=\"background-color:white\"><polygon fill=\"green\" points=\"141.24682452694518,257.0272228311384 66.24682452694518,192.07531754730547 282.75317547305485,129.57531754730547 357.75317547305485,194.52722283113837\"/> <polygon fill=\"blue\" points=\"66.24682452694518,192.07531754730547 66.24682452694518,105.47277716886163 282.75317547305485,42.97277716886161 282.75317547305485,129.57531754730547\"/> <polygon fill=\"red\" points=\"357.75317547305485,194.52722283113837 357.75317547305485,107.92468245269451 282.75317547305485,42.97277716886161 282.75317547305485,129.57531754730547\"/> <polygon fill=\"white\" points=\"114.96075348981985,152.03205543377234 114.96075348981985,117.39103928239479 134.44632507496974,111.76603928239479 134.44632507496974,146.4070554337723\"/> <polygon fill=\"white\" points=\"214.55367492503026,123.28205543377231 214.55367492503026,88.64103928239477 234.03924651018016,83.01603928239477 234.03924651018016,117.65705543377231\"/> <polygon fill=\"white\" points=\"327.7531754730548,168.5464607176052 327.7531754730548,116.5849364905389 312.75317547305485,103.59455543377231 312.75317547305485,155.55607966083863\"/></svg>"
      ],
      "text/plain": [
       "Canvas([<__main__.Flat at 0x7f53fa7575e0>,\n",
       "        <__main__.Flat at 0x7f53fa757160>,\n",
       "        <__main__.Flat at 0x7f53fa757100>,\n",
       "        <__main__.Flat at 0x7f53fa757fa0>,\n",
       "        <__main__.Flat at 0x7f53fa757ca0>,\n",
       "        <__main__.Flat at 0x7f53fa757a60>])"
      ]
     },
     "execution_count": 213,
     "metadata": {},
     "output_type": "execute_result"
    }
   ],
   "source": [
    "window2.vscale(0.8)\n",
    "canvas"
   ]
  },
  {
   "cell_type": "code",
   "execution_count": 196,
   "id": "d54fa2b1-7303-4d4b-908c-335932ddd12c",
   "metadata": {},
   "outputs": [],
   "source": [
    "window1.u = -0.5"
   ]
  },
  {
   "cell_type": "code",
   "execution_count": 201,
   "id": "2226440d-eb3d-48cc-a5f8-ff545846ea7b",
   "metadata": {},
   "outputs": [],
   "source": [
    "window1.u -= 1"
   ]
  },
  {
   "cell_type": "code",
   "execution_count": 202,
   "id": "8958b7d4-ecfa-4663-9117-435082f53cd3",
   "metadata": {},
   "outputs": [
    {
     "data": {
      "image/svg+xml": [
       "<svg width=\"424\" height=\"300\" style=\"background-color:white\"><polygon fill=\"green\" points=\"141.24682452694518,257.0272228311384 66.24682452694518,192.07531754730547 282.75317547305485,129.57531754730547 357.75317547305485,194.52722283113837\"/> <polygon fill=\"blue\" points=\"66.24682452694518,192.07531754730547 66.24682452694518,105.47277716886163 282.75317547305485,42.97277716886161 282.75317547305485,129.57531754730547\"/> <polygon fill=\"red\" points=\"357.75317547305485,194.52722283113837 357.75317547305485,107.92468245269451 282.75317547305485,42.97277716886161 282.75317547305485,129.57531754730547\"/> <polygon fill=\"white\" points=\"59.751633998561886,172.29968245269453 59.751633998561886,128.9984122634726 72.74201505532847,125.2484122634726 72.74201505532847,168.54968245269453\"/> <polygon fill=\"white\" points=\"217.80127018922192,126.67468245269451 217.80127018922192,83.37341226347257 230.7916512459885,79.62341226347259 230.7916512459885,122.9246824526945\"/> <polygon fill=\"white\" points=\"327.7531754730548,168.5464607176052 327.7531754730548,116.5849364905389 312.75317547305485,103.59455543377231 312.75317547305485,155.55607966083863\"/></svg>"
      ],
      "text/plain": [
       "Canvas([<__main__.Flat at 0x7f53fa8bb5e0>,\n",
       "        <__main__.Flat at 0x7f53fa8bb640>,\n",
       "        <__main__.Flat at 0x7f53fa8bb460>,\n",
       "        <__main__.Flat at 0x7f53fa8bb2e0>,\n",
       "        <__main__.Flat at 0x7f53fa8bb340>,\n",
       "        <__main__.Flat at 0x7f53fa8bb400>])"
      ]
     },
     "execution_count": 202,
     "metadata": {},
     "output_type": "execute_result"
    }
   ],
   "source": [
    "canvas"
   ]
  },
  {
   "cell_type": "code",
   "execution_count": 222,
   "id": "1af943d0-fdab-4bc0-90c9-f0e3c355248b",
   "metadata": {},
   "outputs": [
    {
     "data": {
      "text/plain": [
       "'<svg width=\"424\" height=\"300\" style=\"background-color:white\"><polygon fill=\"green\" points=\"141.24682452694518,257.0272228311384 66.24682452694518,192.07531754730547 282.75317547305485,129.57531754730547 357.75317547305485,194.52722283113837\"/> <polygon fill=\"blue\" points=\"66.24682452694518,192.07531754730547 66.24682452694518,105.47277716886163 282.75317547305485,42.97277716886161 282.75317547305485,129.57531754730547\"/> <polygon fill=\"red\" points=\"357.75317547305485,194.52722283113837 357.75317547305485,107.92468245269451 282.75317547305485,42.97277716886161 282.75317547305485,129.57531754730547\"/> <polygon fill=\"white\" points=\"161.50961894323342,142.92468245269453 161.50961894323342,99.62341226347259 187.49038105676658,92.12341226347257 187.49038105676658,135.42468245269453\"/> <polygon fill=\"white\" points=\"327.7531754730548,168.5464607176052 327.7531754730548,116.5849364905389 312.75317547305485,103.59455543377231 312.75317547305485,155.55607966083863\"/></svg>'"
      ]
     },
     "execution_count": 222,
     "metadata": {},
     "output_type": "execute_result"
    }
   ],
   "source": [
    "canvas._repr_svg_()"
   ]
  }
 ],
 "metadata": {
  "kernelspec": {
   "display_name": "Python 3 (ipykernel)",
   "language": "python",
   "name": "python3"
  },
  "language_info": {
   "codemirror_mode": {
    "name": "ipython",
    "version": 3
   },
   "file_extension": ".py",
   "mimetype": "text/x-python",
   "name": "python",
   "nbconvert_exporter": "python",
   "pygments_lexer": "ipython3",
   "version": "3.9.5"
  }
 },
 "nbformat": 4,
 "nbformat_minor": 5
}
