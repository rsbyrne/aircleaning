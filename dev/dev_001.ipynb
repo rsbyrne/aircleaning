{
 "cells": [
  {
   "cell_type": "code",
   "execution_count": null,
   "id": "daa8189b-eb24-4047-a488-f900c5dc3ad0",
   "metadata": {},
   "outputs": [],
   "source": [
    "import sys, os\n",
    "repodir = os.path.abspath('..')\n",
    "if not repodir in sys.path:\n",
    "    sys.path.append(repodir)"
   ]
  },
  {
   "cell_type": "code",
   "execution_count": null,
   "id": "f8f3cbf3-51b5-4dfc-85fd-787bae61ead8",
   "metadata": {},
   "outputs": [],
   "source": [
    "from aircleaning import svg, html"
   ]
  },
  {
   "cell_type": "code",
   "execution_count": null,
   "id": "08dfe159-e881-400d-b635-a4b2d56c2ae6",
   "metadata": {},
   "outputs": [],
   "source": [
    "page = html.Page(\n",
    "    html.Script(\n",
    "        '''function form_update(form){''',\n",
    "        '''    var volume;'''\n",
    "        '''    volume = form.room_length.value * form.room_width.value * form.room_height.value;'''\n",
    "        '''    document.getElementById(\"total_volume\").innerHTML = volume;'''\n",
    "        '''}''',\n",
    "        ),\n",
    "    html.Div(\n",
    "        html.Div(\n",
    "            html.Form(\n",
    "                html.Fieldset(\n",
    "                    'How big is your room?',\n",
    "                    {\n",
    "                        'Length (m):': html.CapturedInput(\n",
    "                            'range', 5, input_kwargs=dict(min=3, max=7, style=\"width: 90%;\", name='room_length')\n",
    "                            ),\n",
    "                        'Width (m):': html.CapturedInput(\n",
    "                            'range', 5, input_kwargs=dict(min=3, max=7, style=\"width: 90%;\", name='room_width')\n",
    "                            ),\n",
    "                        'Height (m):': html.CapturedInput(\n",
    "                            'range', 3, input_kwargs=dict(min=3, max=7, style=\"width: 90%;\", name='room_height')\n",
    "                            ),\n",
    "                        },\n",
    "                    html.Div(\n",
    "                        html.Div(\"Total volume (m<sup>3</sup>):\", style=\"float: left; width:70%; margin-right:10px\"),\n",
    "                        html.Div('-', identity='total_volume', style=\"float: left; width:20%\"),\n",
    "                        style=\"margin-upper:10px\"\n",
    "                        ),\n",
    "                    name='room_size',\n",
    "                    style=\"margin: 10px;\",\n",
    "                    ),\n",
    "                html.Fieldset(\n",
    "                    \"What is the air quality like in your room?\",\n",
    "                    {\n",
    "                        'Number of people:': html.CapturedInput(\n",
    "                            'range', 1, input_kwargs=dict(min=1, max=6, style=\"width: 90%;\", name='number_people')\n",
    "                            ),\n",
    "                        'Activity level:': html.CapturedInput(\n",
    "                            'range', 1, input_kwargs=dict(min=1, max=6, style=\"width: 90%;\", name='level_activity')\n",
    "                            ),\n",
    "                        'Number of open windows:': html.CapturedInput(\n",
    "                            'range', 0, input_kwargs=dict(min=0, max=6, style=\"width: 90%;\", name='number_windows')\n",
    "                            ),\n",
    "                        },\n",
    "                    html.Div(\n",
    "                        html.Div(\"Estimated cleaning required (ACH):\", style=\"float: left; width:70%; margin-right:10px\"),\n",
    "                        html.Div('-', identity='fouling_rate', style=\"float: left; width:20%\"),\n",
    "                        style=\"margin-upper:10px\"\n",
    "                        ),\n",
    "                    name='room_quality',\n",
    "                    style=\"margin: 10px;\",\n",
    "                    ),\n",
    "                identity='user_form',\n",
    "                style=\"width: 40%; float: left\",\n",
    "                ),\n",
    "            html.Div(\n",
    "                svg.draw_scene(windows=2),\n",
    "                identity=\"Room 1\", style=\"float: left; width: 50%\",\n",
    "                ),\n",
    "            style=\"overflow: hidden; text-align: center; margin:10px\",\n",
    "            )\n",
    "        ),\n",
    "    html.TabbedPanes(\n",
    "        html.Image('https://rsbyrne.github.io/aircleaning/products/0_0.png'),\n",
    "        ),\n",
    "    )\n",
    "display(page)\n",
    "page.save_html('test')"
   ]
  },
  {
   "cell_type": "code",
   "execution_count": null,
   "id": "576d6e53-80ce-4f66-b726-f8d1651905e2",
   "metadata": {},
   "outputs": [],
   "source": [
    "html.Image('https://rsbyrne.github.io/aircleaning/products/0_0.png')"
   ]
  },
  {
   "cell_type": "code",
   "execution_count": null,
   "id": "6024887d-0345-470d-a1b4-8762cdd387a3",
   "metadata": {},
   "outputs": [],
   "source": []
  }
 ],
 "metadata": {
  "kernelspec": {
   "display_name": "Python 3 (ipykernel)",
   "language": "python",
   "name": "python3"
  },
  "language_info": {
   "codemirror_mode": {
    "name": "ipython",
    "version": 3
   },
   "file_extension": ".py",
   "mimetype": "text/x-python",
   "name": "python",
   "nbconvert_exporter": "python",
   "pygments_lexer": "ipython3",
   "version": "3.9.5"
  }
 },
 "nbformat": 4,
 "nbformat_minor": 5
}
